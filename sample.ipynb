{
 "cells": [
  {
   "metadata": {
    "ExecuteTime": {
     "end_time": "2024-04-24T21:04:56.436740Z",
     "start_time": "2024-04-24T21:04:37.878625Z"
    }
   },
   "cell_type": "code",
   "source": [
    "import pandas as pd\n",
    "\n",
    "df = pd.read_csv('Google-Playstore.csv');"
   ],
   "id": "52070e7ea5c3f045",
   "outputs": [],
   "execution_count": 1
  },
  {
   "cell_type": "code",
   "source": [
    "df.info"
   ],
   "metadata": {
    "collapsed": false,
    "ExecuteTime": {
     "end_time": "2024-04-24T21:04:57.175467Z",
     "start_time": "2024-04-24T21:04:56.437747Z"
    }
   },
   "id": "ee4c4d407bf0d2af",
   "outputs": [
    {
     "data": {
      "text/plain": [
       "<bound method DataFrame.info of                                                   App Name  \\\n",
       "0                                                  Gakondo   \n",
       "1                                      Ampere Battery Info   \n",
       "2                                                   Vibook   \n",
       "3        Smart City Trichy Public Service Vehicles 17UC...   \n",
       "4                                                  GROW.me   \n",
       "...                                                    ...   \n",
       "2312939                                           大俠客—熱血歸來   \n",
       "2312940                                         ORU Online   \n",
       "2312941                                     Data Structure   \n",
       "2312942                                        Devi Suktam   \n",
       "2312943                       Biliyor Musun - Sonsuz Yarış   \n",
       "\n",
       "                                       App Id       Category  Rating  \\\n",
       "0                         com.ishakwe.gakondo      Adventure     0.0   \n",
       "1                  com.webserveis.batteryinfo          Tools     4.4   \n",
       "2                        com.doantiepvien.crm   Productivity     0.0   \n",
       "3                     cst.stJoseph.ug17ucs548  Communication     5.0   \n",
       "4                        com.horodyski.grower          Tools     0.0   \n",
       "...                                       ...            ...     ...   \n",
       "2312939                         com.rxsj.ssjj   Role Playing     4.3   \n",
       "2312940              com.threedream.oruonline      Education     0.0   \n",
       "2312941  datastructure.appoworld.datastucture      Education     0.0   \n",
       "2312942                     ishan.devi.suktam  Music & Audio     3.5   \n",
       "2312943             com.yyazilim.biliyormusun         Trivia     5.0   \n",
       "\n",
       "         Rating Count  Installs  Minimum Installs  Maximum Installs  Free  \\\n",
       "0                 0.0       10+              10.0                15  True   \n",
       "1                64.0    5,000+            5000.0              7662  True   \n",
       "2                 0.0       50+              50.0                58  True   \n",
       "3                 5.0       10+              10.0                19  True   \n",
       "4                 0.0      100+             100.0               478  True   \n",
       "...               ...       ...               ...               ...   ...   \n",
       "2312939       16775.0  100,000+          100000.0            337109  True   \n",
       "2312940           0.0      100+             100.0               430  True   \n",
       "2312941           0.0      100+             100.0               202  True   \n",
       "2312942           8.0    1,000+            1000.0              2635  True   \n",
       "2312943          12.0      100+             100.0               354  True   \n",
       "\n",
       "         Price  ...                  Developer Website  \\\n",
       "0          0.0  ...        https://beniyizibyose.tk/#/   \n",
       "1          0.0  ...    https://webserveis.netlify.app/   \n",
       "2          0.0  ...                                NaN   \n",
       "3          0.0  ...   http://www.climatesmarttech.com/   \n",
       "4          0.0  ...        http://www.horodyski.com.pl   \n",
       "...        ...  ...                                ...   \n",
       "2312939    0.0  ...          http://www.4399sy.com.hk/   \n",
       "2312940    0.0  ...                http://www.oru.edu/   \n",
       "2312941    0.0  ...                                NaN   \n",
       "2312942    0.0  ...  https://a70f78905.app-ads-txt.com   \n",
       "2312943    0.0  ...                                NaN   \n",
       "\n",
       "                      Developer Email      Released  Last Updated  \\\n",
       "0              jean21101999@gmail.com  Feb 26, 2020  Feb 26, 2020   \n",
       "1                webserveis@gmail.com  May 21, 2020  May 06, 2021   \n",
       "2                 vnacrewit@gmail.com   Aug 9, 2019  Aug 19, 2019   \n",
       "3         climatesmarttech2@gmail.com  Sep 10, 2018  Oct 13, 2018   \n",
       "4           rmilekhorodyski@gmail.com  Feb 21, 2020  Nov 12, 2018   \n",
       "...                               ...           ...           ...   \n",
       "2312939           ssjjcomhk@gmail.com           NaN  Jun 01, 2021   \n",
       "2312940     3DreamDeveloper@gmail.com  Jan 17, 2018  Feb 02, 2018   \n",
       "2312941  appoworld.official@gmail.com  Aug 19, 2018  Aug 19, 2018   \n",
       "2312942           ruchisono@gmail.com   Aug 1, 2016  May 05, 2021   \n",
       "2312943     yyazilimdevelop@gmail.com   Aug 9, 2019  Aug 19, 2019   \n",
       "\n",
       "        Content Rating                                     Privacy Policy  \\\n",
       "0             Everyone                 https://beniyizibyose.tk/projects/   \n",
       "1             Everyone  https://dev4phones.wordpress.com/licencia-de-uso/   \n",
       "2             Everyone  https://www.vietnamairlines.com/vn/en/terms-an...   \n",
       "3             Everyone                                                NaN   \n",
       "4             Everyone                        http://www.horodyski.com.pl   \n",
       "...                ...                                                ...   \n",
       "2312939           Teen             http://a.4399sy.com.hk/user/aggreement   \n",
       "2312940       Everyone    http://www.oru.edu/about-oru/privacy-policy.php   \n",
       "2312941       Everyone  https://appoworld.000webhostapp.com/datastruct...   \n",
       "2312942       Everyone  https://docs.google.com/document/d/1x-9reZuLRX...   \n",
       "2312943       Everyone  https://biliyor-musun-sons.flycricket.io/priva...   \n",
       "\n",
       "        Ad Supported In App Purchases Editors Choice         Scraped Time  \n",
       "0              False            False          False  2021-06-15 20:19:35  \n",
       "1               True            False          False  2021-06-15 20:19:35  \n",
       "2              False            False          False  2021-06-15 20:19:35  \n",
       "3               True            False          False  2021-06-15 20:19:35  \n",
       "4              False            False          False  2021-06-15 20:19:35  \n",
       "...              ...              ...            ...                  ...  \n",
       "2312939        False            False          False  2021-06-16 12:59:18  \n",
       "2312940        False            False          False  2021-06-16 12:59:19  \n",
       "2312941        False            False          False  2021-06-16 12:59:19  \n",
       "2312942         True            False          False  2021-06-16 12:59:19  \n",
       "2312943         True            False          False  2021-06-16 12:59:19  \n",
       "\n",
       "[2312944 rows x 24 columns]>"
      ]
     },
     "execution_count": 2,
     "metadata": {},
     "output_type": "execute_result"
    }
   ],
   "execution_count": 2
  },
  {
   "cell_type": "code",
   "source": [
    "df.dtypes"
   ],
   "metadata": {
    "collapsed": false,
    "ExecuteTime": {
     "end_time": "2024-04-24T21:04:57.182491Z",
     "start_time": "2024-04-24T21:04:57.176476Z"
    }
   },
   "id": "c9faca4dfe394744",
   "outputs": [
    {
     "data": {
      "text/plain": [
       "App Name              object\n",
       "App Id                object\n",
       "Category              object\n",
       "Rating               float64\n",
       "Rating Count         float64\n",
       "Installs              object\n",
       "Minimum Installs     float64\n",
       "Maximum Installs       int64\n",
       "Free                    bool\n",
       "Price                float64\n",
       "Currency              object\n",
       "Size                  object\n",
       "Minimum Android       object\n",
       "Developer Id          object\n",
       "Developer Website     object\n",
       "Developer Email       object\n",
       "Released              object\n",
       "Last Updated          object\n",
       "Content Rating        object\n",
       "Privacy Policy        object\n",
       "Ad Supported            bool\n",
       "In App Purchases        bool\n",
       "Editors Choice          bool\n",
       "Scraped Time          object\n",
       "dtype: object"
      ]
     },
     "execution_count": 3,
     "metadata": {},
     "output_type": "execute_result"
    }
   ],
   "execution_count": 3
  },
  {
   "cell_type": "code",
   "source": [
    "df.duplicated()"
   ],
   "metadata": {
    "collapsed": false,
    "ExecuteTime": {
     "end_time": "2024-04-24T21:05:05.236433Z",
     "start_time": "2024-04-24T21:04:57.183502Z"
    }
   },
   "id": "bcfa50046e708854",
   "outputs": [
    {
     "data": {
      "text/plain": [
       "0          False\n",
       "1          False\n",
       "2          False\n",
       "3          False\n",
       "4          False\n",
       "           ...  \n",
       "2312939    False\n",
       "2312940    False\n",
       "2312941    False\n",
       "2312942    False\n",
       "2312943    False\n",
       "Length: 2312944, dtype: bool"
      ]
     },
     "execution_count": 4,
     "metadata": {},
     "output_type": "execute_result"
    }
   ],
   "execution_count": 4
  },
  {
   "cell_type": "code",
   "source": [
    "df.isnull().any()"
   ],
   "metadata": {
    "collapsed": false,
    "ExecuteTime": {
     "end_time": "2024-04-24T21:05:06.306397Z",
     "start_time": "2024-04-24T21:05:05.239450Z"
    }
   },
   "id": "a0ee81aa7f681e96",
   "outputs": [
    {
     "data": {
      "text/plain": [
       "App Name              True\n",
       "App Id               False\n",
       "Category             False\n",
       "Rating                True\n",
       "Rating Count          True\n",
       "Installs              True\n",
       "Minimum Installs      True\n",
       "Maximum Installs     False\n",
       "Free                 False\n",
       "Price                False\n",
       "Currency              True\n",
       "Size                  True\n",
       "Minimum Android       True\n",
       "Developer Id          True\n",
       "Developer Website     True\n",
       "Developer Email       True\n",
       "Released              True\n",
       "Last Updated         False\n",
       "Content Rating       False\n",
       "Privacy Policy        True\n",
       "Ad Supported         False\n",
       "In App Purchases     False\n",
       "Editors Choice       False\n",
       "Scraped Time         False\n",
       "dtype: bool"
      ]
     },
     "execution_count": 5,
     "metadata": {},
     "output_type": "execute_result"
    }
   ],
   "execution_count": 5
  },
  {
   "metadata": {
    "ExecuteTime": {
     "end_time": "2024-04-24T21:05:07.880760Z",
     "start_time": "2024-04-24T21:05:06.307408Z"
    }
   },
   "cell_type": "code",
   "source": "df.dropna(inplace=True)",
   "id": "dfe555fd938fff86",
   "outputs": [],
   "execution_count": 6
  },
  {
   "cell_type": "code",
   "source": [
    "df.isnull().sum()"
   ],
   "metadata": {
    "collapsed": false,
    "ExecuteTime": {
     "end_time": "2024-04-24T21:05:08.480760Z",
     "start_time": "2024-04-24T21:05:07.881767Z"
    }
   },
   "id": "3c9b66fc6fe92a5f",
   "outputs": [
    {
     "data": {
      "text/plain": [
       "App Name             0\n",
       "App Id               0\n",
       "Category             0\n",
       "Rating               0\n",
       "Rating Count         0\n",
       "Installs             0\n",
       "Minimum Installs     0\n",
       "Maximum Installs     0\n",
       "Free                 0\n",
       "Price                0\n",
       "Currency             0\n",
       "Size                 0\n",
       "Minimum Android      0\n",
       "Developer Id         0\n",
       "Developer Website    0\n",
       "Developer Email      0\n",
       "Released             0\n",
       "Last Updated         0\n",
       "Content Rating       0\n",
       "Privacy Policy       0\n",
       "Ad Supported         0\n",
       "In App Purchases     0\n",
       "Editors Choice       0\n",
       "Scraped Time         0\n",
       "dtype: int64"
      ]
     },
     "execution_count": 7,
     "metadata": {},
     "output_type": "execute_result"
    }
   ],
   "execution_count": 7
  },
  {
   "cell_type": "code",
   "source": [
    "df['Rating Count'].unique()"
   ],
   "metadata": {
    "collapsed": false,
    "ExecuteTime": {
     "end_time": "2024-04-24T21:05:08.513298Z",
     "start_time": "2024-04-24T21:05:08.481780Z"
    }
   },
   "id": "d0ddcf62f34592f0",
   "outputs": [
    {
     "data": {
      "text/plain": [
       "array([0.0000e+00, 6.4000e+01, 8.2000e+02, ..., 8.7553e+04, 7.5960e+04,\n",
       "       7.8351e+04])"
      ]
     },
     "execution_count": 8,
     "metadata": {},
     "output_type": "execute_result"
    }
   ],
   "execution_count": 8
  },
  {
   "cell_type": "code",
   "source": [
    "df['Minimum Installs'].unique()"
   ],
   "metadata": {
    "collapsed": false,
    "ExecuteTime": {
     "end_time": "2024-04-24T21:05:08.531583Z",
     "start_time": "2024-04-24T21:05:08.514309Z"
    }
   },
   "id": "6e8c676e7a05b3ad",
   "outputs": [
    {
     "data": {
      "text/plain": [
       "array([1.e+01, 5.e+03, 1.e+02, 5.e+01, 5.e+04, 1.e+04, 1.e+03, 5.e+02,\n",
       "       5.e+05, 1.e+05, 1.e+07, 1.e+00, 1.e+06, 5.e+00, 5.e+06, 1.e+08,\n",
       "       0.e+00, 5.e+07, 1.e+09, 5.e+08, 5.e+09, 1.e+10])"
      ]
     },
     "execution_count": 9,
     "metadata": {},
     "output_type": "execute_result"
    }
   ],
   "execution_count": 9
  },
  {
   "cell_type": "code",
   "source": [
    "df = df.astype({\n",
    "    'App Name': 'string',\n",
    "    'App Id': 'string',\n",
    "    'Category': 'category',\n",
    "    'Rating': 'float64',\n",
    "    'Rating Count': 'float64',\n",
    "    'Minimum Installs': 'float64',\n",
    "    'Maximum Installs': 'float64',\n",
    "    'Free': 'bool',\n",
    "    'Price': 'float64',\n",
    "    'Currency': 'category',\n",
    "    'Size': 'string',\n",
    "    'Minimum Android': 'category',\n",
    "    'Developer Id': 'string',\n",
    "    'Developer Website': 'string',\n",
    "    'Developer Email': 'string',\n",
    "    'Released': 'datetime64[ns]',\n",
    "    'Last Updated': 'datetime64[ns]',\n",
    "    'Content Rating': 'string',\n",
    "    'Privacy Policy': 'string',\n",
    "    'Ad Supported': 'bool',\n",
    "    'In App Purchases': 'bool',\n",
    "    'Editors Choice': 'bool',\n",
    "    'Scraped Time': 'datetime64[ns]'\n",
    "})\n",
    "df['Installs'] = df['Installs'].str.replace(',', '').str.replace('+', '').astype('float64')"
   ],
   "metadata": {
    "collapsed": false,
    "ExecuteTime": {
     "end_time": "2024-04-24T21:07:36.011999Z",
     "start_time": "2024-04-24T21:05:08.532593Z"
    }
   },
   "id": "7ea714d058d4a79",
   "outputs": [],
   "execution_count": 10
  },
  {
   "cell_type": "code",
   "source": "df.to_pickle(\"googleDb.pkl\")",
   "metadata": {
    "collapsed": false,
    "ExecuteTime": {
     "end_time": "2024-04-24T21:07:39.031666Z",
     "start_time": "2024-04-24T21:07:36.012512Z"
    }
   },
   "id": "eb8a3874005d804a",
   "outputs": [],
   "execution_count": 11
  },
  {
   "cell_type": "code",
   "source": [
    "import pandas as pd\n",
    "import numpy as np\n",
    "import matplotlib.pyplot as plt\n",
    "df = pd.read_pickle(\"googleDb.pkl\")"
   ],
   "metadata": {
    "collapsed": false,
    "ExecuteTime": {
     "end_time": "2024-04-25T05:19:26.016920Z",
     "start_time": "2024-04-25T05:19:24.175895Z"
    }
   },
   "id": "9184462569a1a93a",
   "outputs": [],
   "execution_count": 3
  },
  {
   "cell_type": "code",
   "source": "df.hist()",
   "metadata": {
    "collapsed": false,
    "ExecuteTime": {
     "end_time": "2024-04-25T05:19:28.392871Z",
     "start_time": "2024-04-25T05:19:26.911662Z"
    }
   },
   "id": "8043e413f94d4966",
   "outputs": [
    {
     "data": {
      "text/plain": [
       "array([[<Axes: title={'center': 'Rating'}>,\n",
       "        <Axes: title={'center': 'Rating Count'}>,\n",
       "        <Axes: title={'center': 'Installs'}>],\n",
       "       [<Axes: title={'center': 'Minimum Installs'}>,\n",
       "        <Axes: title={'center': 'Maximum Installs'}>,\n",
       "        <Axes: title={'center': 'Price'}>],\n",
       "       [<Axes: title={'center': 'Released'}>,\n",
       "        <Axes: title={'center': 'Last Updated'}>,\n",
       "        <Axes: title={'center': 'Scraped Time'}>]], dtype=object)"
      ]
     },
     "execution_count": 4,
     "metadata": {},
     "output_type": "execute_result"
    },
    {
     "data": {
      "text/plain": [
       "<Figure size 640x480 with 9 Axes>"
      ],
      "image/png": "[encoded data removed]"
     },
     "metadata": {},
     "output_type": "display_data"
    }
   ],
   "execution_count": 4
  },
  {
   "cell_type": "code",
   "source": [
    "mean_ratings = df.groupby('Category')['Rating'].mean()\n",
    "mean_ratings.plot()"
   ],
   "metadata": {
    "collapsed": false,
    "ExecuteTime": {
     "end_time": "2024-04-25T05:19:29.817915Z",
     "start_time": "2024-04-25T05:19:29.698823Z"
    }
   },
   "id": "1934982dca4af1fa",
   "outputs": [
    {
     "name": "stderr",
     "output_type": "stream",
     "text": [
      "C:\\Users\\banco\\AppData\\Local\\Temp\\ipykernel_15540\\3432813846.py:1: FutureWarning: The default of observed=False is deprecated and will be changed to True in a future version of pandas. Pass observed=False to retain current behavior or observed=True to adopt the future default and silence this warning.\n",
      "  mean_ratings = df.groupby('Category')['Rating'].mean()\n"
     ]
    },
    {
     "data": {
      "text/plain": [
       "<Axes: xlabel='Category'>"
      ]
     },
     "execution_count": 5,
     "metadata": {},
     "output_type": "execute_result"
    },
    {
     "data": {
      "text/plain": [
       "<Figure size 640x480 with 1 Axes>"
      ],
      "image/png": "[encoded data removed]"
     },
     "metadata": {},
     "output_type": "display_data"
    }
   ],
   "execution_count": 5
  },
  {
   "cell_type": "code",
   "source": [
    "numeric_df = df.select_dtypes(include=['float64', 'int64'])\n",
    "numeric_df.corr()"
   ],
   "metadata": {
    "collapsed": false,
    "ExecuteTime": {
     "end_time": "2024-04-25T05:19:34.608123Z",
     "start_time": "2024-04-25T05:19:34.462279Z"
    }
   },
   "id": "fb2f403a0348f5cf",
   "outputs": [
    {
     "data": {
      "text/plain": [
       "                    Rating  Rating Count  Installs  Minimum Installs  \\\n",
       "Rating            1.000000      0.016184  0.013084          0.013084   \n",
       "Rating Count      0.016184      1.000000  0.536045          0.536045   \n",
       "Installs          0.013084      0.536045  1.000000          1.000000   \n",
       "Minimum Installs  0.013084      0.536045  1.000000          1.000000   \n",
       "Maximum Installs  0.015020      0.560042  0.956965          0.956965   \n",
       "Price            -0.003883     -0.000605 -0.000641         -0.000641   \n",
       "\n",
       "                  Maximum Installs     Price  \n",
       "Rating                    0.015020 -0.003883  \n",
       "Rating Count              0.560042 -0.000605  \n",
       "Installs                  0.956965 -0.000641  \n",
       "Minimum Installs          0.956965 -0.000641  \n",
       "Maximum Installs          1.000000 -0.000732  \n",
       "Price                    -0.000732  1.000000  "
      ],
      "text/html": [
       "<div>\n",
       "<style scoped>\n",
       "    .dataframe tbody tr th:only-of-type {\n",
       "        vertical-align: middle;\n",
       "    }\n",
       "\n",
       "    .dataframe tbody tr th {\n",
       "        vertical-align: top;\n",
       "    }\n",
       "\n",
       "    .dataframe thead th {\n",
       "        text-align: right;\n",
       "    }\n",
       "</style>\n",
       "<table border=\"1\" class=\"dataframe\">\n",
       "  <thead>\n",
       "    <tr style=\"text-align: right;\">\n",
       "      <th></th>\n",
       "      <th>Rating</th>\n",
       "      <th>Rating Count</th>\n",
       "      <th>Installs</th>\n",
       "      <th>Minimum Installs</th>\n",
       "      <th>Maximum Installs</th>\n",
       "      <th>Price</th>\n",
       "    </tr>\n",
       "  </thead>\n",
       "  <tbody>\n",
       "    <tr>\n",
       "      <th>Rating</th>\n",
       "      <td>1.000000</td>\n",
       "      <td>0.016184</td>\n",
       "      <td>0.013084</td>\n",
       "      <td>0.013084</td>\n",
       "      <td>0.015020</td>\n",
       "      <td>-0.003883</td>\n",
       "    </tr>\n",
       "    <tr>\n",
       "      <th>Rating Count</th>\n",
       "      <td>0.016184</td>\n",
       "      <td>1.000000</td>\n",
       "      <td>0.536045</td>\n",
       "      <td>0.536045</td>\n",
       "      <td>0.560042</td>\n",
       "      <td>-0.000605</td>\n",
       "    </tr>\n",
       "    <tr>\n",
       "      <th>Installs</th>\n",
       "      <td>0.013084</td>\n",
       "      <td>0.536045</td>\n",
       "      <td>1.000000</td>\n",
       "      <td>1.000000</td>\n",
       "      <td>0.956965</td>\n",
       "      <td>-0.000641</td>\n",
       "    </tr>\n",
       "    <tr>\n",
       "      <th>Minimum Installs</th>\n",
       "      <td>0.013084</td>\n",
       "      <td>0.536045</td>\n",
       "      <td>1.000000</td>\n",
       "      <td>1.000000</td>\n",
       "      <td>0.956965</td>\n",
       "      <td>-0.000641</td>\n",
       "    </tr>\n",
       "    <tr>\n",
       "      <th>Maximum Installs</th>\n",
       "      <td>0.015020</td>\n",
       "      <td>0.560042</td>\n",
       "      <td>0.956965</td>\n",
       "      <td>0.956965</td>\n",
       "      <td>1.000000</td>\n",
       "      <td>-0.000732</td>\n",
       "    </tr>\n",
       "    <tr>\n",
       "      <th>Price</th>\n",
       "      <td>-0.003883</td>\n",
       "      <td>-0.000605</td>\n",
       "      <td>-0.000641</td>\n",
       "      <td>-0.000641</td>\n",
       "      <td>-0.000732</td>\n",
       "      <td>1.000000</td>\n",
       "    </tr>\n",
       "  </tbody>\n",
       "</table>\n",
       "</div>"
      ]
     },
     "execution_count": 6,
     "metadata": {},
     "output_type": "execute_result"
    }
   ],
   "execution_count": 6
  },
  {
   "cell_type": "code",
   "source": [
    "category_counts = df['Category'].value_counts()\n",
    "\n",
    "total_apps = len(df)\n",
    "\n",
    "gini_index = 1\n",
    "for count in category_counts:\n",
    "    probability = count / total_apps\n",
    "    gini_index -= probability ** 2\n",
    "    \n",
    "print(gini_index)"
   ],
   "metadata": {
    "collapsed": false,
    "ExecuteTime": {
     "end_time": "2024-04-25T05:19:36.536807Z",
     "start_time": "2024-04-25T05:19:36.521946Z"
    }
   },
   "id": "35769aa42d44446",
   "outputs": [
    {
     "name": "stdout",
     "output_type": "stream",
     "text": [
      "0.9558112602251916\n"
     ]
    }
   ],
   "execution_count": 7
  },
  {
   "cell_type": "code",
   "source": [
    "# Category\n",
    "category_entropy = -sum(df['Category'].value_counts(normalize=True) * np.log2(df['Category'].value_counts(normalize=True)))\n",
    "print(\"Entropy 'Category':\", category_entropy)\n",
    "\n",
    "# Content Rating\n",
    "content_rating_entropy = -sum(df['Content Rating'].value_counts(normalize=True) * np.log2(df['Content Rating'].value_counts(normalize=True)))\n",
    "print(\"Entropy 'Content Rating':\", content_rating_entropy)\n",
    "\n",
    "# Ad Supported\n",
    "ad_supported_entropy = -sum(df['Ad Supported'].value_counts(normalize=True) * np.log2(df['Ad Supported'].value_counts(normalize=True)))\n",
    "print(\"Entropy 'Ad Supported':\", ad_supported_entropy)\n",
    "\n",
    "# In App Purchases\n",
    "in_app_purchases_entropy = -sum(df['In App Purchases'].value_counts(normalize=True) * np.log2(df['In App Purchases'].value_counts(normalize=True)))\n",
    "print(\"Entropy 'In App Purchases':\", in_app_purchases_entropy)\n",
    "\n",
    "# Editors Choice\n",
    "editors_choice_entropy = -sum(df['Editors Choice'].value_counts(normalize=True) * np.log2(df['Editors Choice'].value_counts(normalize=True)))\n",
    "print(\"Entropy 'Editors Choice':\", editors_choice_entropy)\n",
    "\n",
    "entropies = {\n",
    "    'Category': category_entropy,\n",
    "    'Content Rating': content_rating_entropy,\n",
    "    'Ad Supported': ad_supported_entropy,\n",
    "    'In App Purchases': in_app_purchases_entropy,\n",
    "    'Editors Choice': editors_choice_entropy\n",
    "}\n",
    "\n",
    "entropies_df = pd.DataFrame.from_dict(entropies, orient='index', columns=['Entropy'])\n",
    "\n",
    "entropies_df = entropies_df.sort_values(by='Entropy', ascending=False)\n",
    "\n",
    "plt.figure(figsize=(10, 6))\n",
    "plt.bar(entropies_df.index, entropies_df['Entropy'], color='orange')\n",
    "plt.title('Entropy')\n",
    "plt.xlabel('Column')\n",
    "plt.ylabel('Entropy')\n",
    "plt.xticks(rotation=45)\n",
    "plt.show()"
   ],
   "metadata": {
    "collapsed": false,
    "ExecuteTime": {
     "end_time": "2024-04-25T05:19:40.519067Z",
     "start_time": "2024-04-25T05:19:40.193848Z"
    }
   },
   "id": "55cd2785dbc84bc1",
   "outputs": [
    {
     "name": "stdout",
     "output_type": "stream",
     "text": [
      "Entropy 'Category': 4.887536348176394\n",
      "Entropy 'Content Rating': 0.7108786966395728\n",
      "Entropy 'Ad Supported': 0.9918184289575542\n",
      "Entropy 'In App Purchases': 0.48812519842147617\n",
      "Entropy 'Editors Choice': 0.007301017802566471\n"
     ]
    },
    {
     "data": {
      "text/plain": [
       "<Figure size 1000x600 with 1 Axes>"
      ],
      "image/png": "[encoded data removed]"
     },
     "metadata": {},
     "output_type": "display_data"
    }
   ],
   "execution_count": 8
  },
  {
   "metadata": {
    "ExecuteTime": {
     "end_time": "2024-04-25T05:19:47.864872Z",
     "start_time": "2024-04-25T05:19:47.320922Z"
    }
   },
   "cell_type": "code",
   "source": [
    "from sklearn.linear_model import LinearRegression\n",
    "from sklearn.model_selection import train_test_split\n",
    "from sklearn.metrics import mean_squared_error\n",
    "\n",
    "# Definim caracteristicile și var targetata\n",
    "X = df[['Rating Count', 'Minimum Installs', 'Maximum Installs', 'Price', 'Ad Supported']]\n",
    "#X = df[['Rating Count', 'Minimum Installs', 'Maximum Installs', 'Price', 'Ad Supported', 'Category']]\n",
    "y = df['Rating']\n",
    "\n",
    "X = pd.get_dummies(X, columns=['Ad Supported'], drop_first=True)\n",
    "#X = pd.get_dummies(X, columns=['Ad Supported', 'Category'], drop_first=True)\n",
    "\n",
    "# Impartim setul de date în set de antrenare si set de testare\n",
    "X_train, X_test, y_train, y_test = train_test_split(X, y, test_size=0.2, random_state=42)\n",
    "\n",
    "# Inițializam si antrenam modelul\n",
    "model_lr = LinearRegression()\n",
    "model_lr.fit(X_train, y_train)\n",
    "\n",
    "# Facem predicții pe setul de testare\n",
    "y_pred_lr = model_lr.predict(X_test)\n",
    "\n",
    "# Evaluam performanța modelului\n",
    "mse_lr = mean_squared_error(y_test, y_pred_lr)\n",
    "print(\"Mean Squared Error (Regresia liniara):\", mse_lr)"
   ],
   "id": "d51b2cf441be9847",
   "outputs": [
    {
     "name": "stdout",
     "output_type": "stream",
     "text": [
      "Mean Squared Error (Regresia liniara): 4.173743929815196\n"
     ]
    }
   ],
   "execution_count": 9
  },
  {
   "metadata": {
    "ExecuteTime": {
     "end_time": "2024-04-25T05:19:54.553281Z",
     "start_time": "2024-04-25T05:19:53.954679Z"
    }
   },
   "cell_type": "code",
   "source": [
    "from sklearn.linear_model import Ridge\n",
    "from sklearn.preprocessing import StandardScaler\n",
    "from sklearn.pipeline import make_pipeline\n",
    "\n",
    "# Standardizam caracteristicile\n",
    "scaler = StandardScaler()\n",
    "\n",
    "# Inițializam modelul și pipeline-ul\n",
    "model_ridge = make_pipeline(scaler, Ridge(alpha=0.1))\n",
    "\n",
    "# Antrenam modelul\n",
    "model_ridge.fit(X_train, y_train)\n",
    "\n",
    "# Facem predictii pe setul de testare\n",
    "y_pred_ridge = model_ridge.predict(X_test)\n",
    "\n",
    "# Evaluam performanța modelului\n",
    "mse_ridge = mean_squared_error(y_test, y_pred_ridge)\n",
    "print(\"Mean Squared Error (Ridge Regression):\", mse_ridge)"
   ],
   "id": "61f3e2d6e8570119",
   "outputs": [
    {
     "name": "stdout",
     "output_type": "stream",
     "text": [
      "Mean Squared Error (Ridge Regression): 4.17374392910934\n"
     ]
    }
   ],
   "execution_count": 10
  },
  {
   "metadata": {
    "ExecuteTime": {
     "end_time": "2024-04-25T04:26:00.771312Z",
     "start_time": "2024-04-25T04:21:48.978837Z"
    }
   },
   "cell_type": "code",
   "source": [
    "from sklearn.ensemble import RandomForestRegressor\n",
    "import pickle\n",
    "\n",
    "# Inițializam si antrenam modelul\n",
    "model_rf = RandomForestRegressor(n_estimators=100, random_state=42)\n",
    "model_rf.fit(X_train, y_train)\n",
    "\n",
    "# Facem predicții pe setul de testare\n",
    "y_pred_rf = model_rf.predict(X_test)\n",
    "\n",
    "# Evaluam performanța modelului\n",
    "mse_rf = mean_squared_error(y_test, y_pred_rf)\n",
    "print(\"Mean Squared Error (Random Forest Regressor):\", mse_rf)\n",
    "\n",
    "pickle.dump(model_rf, open('model_rf.pkl', 'wb'))"
   ],
   "id": "61fe3ff5ec198bd5",
   "outputs": [
    {
     "name": "stdout",
     "output_type": "stream",
     "text": [
      "Mean Squared Error (Random Forest Regressor): 0.2712332228964249\n"
     ]
    }
   ],
   "execution_count": 10
  },
  {
   "metadata": {
    "ExecuteTime": {
     "end_time": "2024-04-25T05:21:05.258326Z",
     "start_time": "2024-04-25T05:20:59.326201Z"
    }
   },
   "cell_type": "code",
   "source": [
    "import pickle\n",
    "loaded_model_rf = pickle.load(open('model_rf.pkl', 'rb'))"
   ],
   "id": "40e265b9ba5e5f35",
   "outputs": [],
   "execution_count": 13
  },
  {
   "metadata": {
    "ExecuteTime": {
     "end_time": "2024-04-25T05:21:11.907988Z",
     "start_time": "2024-04-25T05:21:07.062959Z"
    }
   },
   "cell_type": "code",
   "source": [
    "import xgboost as xgb\n",
    "dtrain = xgb.DMatrix(X_train, label=y_train)\n",
    "dtest = xgb.DMatrix(X_test, label=y_test)\n",
    "\n",
    "params = {\n",
    "    'objective': 'reg:squarederror',\n",
    "    'eval_metric': 'rmse',\n",
    "    'max_depth': 6,\n",
    "    'eta': 0.3,\n",
    "    'subsample': 0.8,\n",
    "    'colsample_bytree': 0.8,\n",
    "    'seed': 42\n",
    "}\n",
    "\n",
    "num_round = 100\n",
    "\n",
    "model_xgboost = xgb.train(params, dtrain, num_round)\n",
    "\n",
    "y_pred = model_xgboost.predict(dtest)\n",
    "\n",
    "mse = mean_squared_error(y_test, y_pred)\n",
    "print(\"Mean Squared Error (XGBoost):\", mse)"
   ],
   "id": "5fbb2e957e05ddb3",
   "outputs": [
    {
     "name": "stdout",
     "output_type": "stream",
     "text": [
      "Mean Squared Error (XGBoost): 0.21820380562692843\n"
     ]
    }
   ],
   "execution_count": 14
  },
  {
   "metadata": {
    "ExecuteTime": {
     "end_time": "2024-04-25T05:55:52.834728Z",
     "start_time": "2024-04-25T05:55:52.799123Z"
    }
   },
   "cell_type": "code",
   "source": [
    "# Predictie de rating pentru o aplicatie noua\n",
    "new_app = {\n",
    "    'Rating Count': 1600,\n",
    "    'Minimum Installs': 10000,\n",
    "    'Maximum Installs': 50000,\n",
    "    'Price': 0,\n",
    "    'Ad Supported_True': 1,\n",
    "}\n",
    "\n",
    "new_app_df = pd.DataFrame([new_app])\n",
    "\n",
    "predicted_rating_lr = model_lr.predict(new_app_df)\n",
    "predicted_rating_rf = loaded_model_rf.predict(new_app_df)\n",
    "predicted_rating_ridge = model_ridge.predict(new_app_df)\n",
    "\n",
    "new_app_df = pd.DataFrame(new_app, index=[0])\n",
    "\n",
    "new_app_dmatrix = xgb.DMatrix(new_app_df)\n",
    "predicted_rating_xgboost = model_xgboost.predict(new_app_dmatrix)\n",
    "\n",
    "print(\"Linear Regression - rating \", predicted_rating_lr)\n",
    "print(\"Ridge Regression - rating \", predicted_rating_ridge)\n",
    "print(\"Random Forest Regressor - rating \", predicted_rating_rf)\n",
    "print(\"XGBoost - rating \", predicted_rating_xgboost)"
   ],
   "id": "bfab44964347d1dc",
   "outputs": [
    {
     "name": "stdout",
     "output_type": "stream",
     "text": [
      "Linear Regression - rating  [2.79944085]\n",
      "Ridge Regression - rating  [2.79944081]\n",
      "Random Forest Regressor - rating  [4.511]\n",
      "XGBoost - rating  [4.362101]\n"
     ]
    }
   ],
   "execution_count": 34
  },
  {
   "metadata": {},
   "cell_type": "code",
   "outputs": [],
   "execution_count": null,
   "source": "",
   "id": "255e16078780106a"
  }
 ],
 "metadata": {
  "kernelspec": {
   "display_name": "Python 3",
   "language": "python",
   "name": "python3"
  },
  "language_info": {
   "codemirror_mode": {
    "name": "ipython",
    "version": 2
   },
   "file_extension": ".py",
   "mimetype": "text/x-python",
   "name": "python",
   "nbconvert_exporter": "python",
   "pygments_lexer": "ipython2",
   "version": "2.7.6"
  }
 },
 "nbformat": 4,
 "nbformat_minor": 5
}
