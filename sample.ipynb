{
 "cells": [
  {
   "cell_type": "code",
   "outputs": [],
   "source": [
    "import pandas as pd\n",
    "\n",
    "df = pd.read_csv('Google-Playstore.csv');"
   ],
   "metadata": {
    "collapsed": false,
    "ExecuteTime": {
     "end_time": "2024-03-28T06:04:01.102660Z",
     "start_time": "2024-03-28T06:03:43.488009Z"
    }
   },
   "id": "671e69331efa6f6f",
   "execution_count": 1
  },
  {
   "cell_type": "code",
   "outputs": [
    {
     "data": {
      "text/plain": "<bound method DataFrame.info of                                                   App Name  \\\n0                                                  Gakondo   \n1                                      Ampere Battery Info   \n2                                                   Vibook   \n3        Smart City Trichy Public Service Vehicles 17UC...   \n4                                                  GROW.me   \n...                                                    ...   \n2312939                                           大俠客—熱血歸來   \n2312940                                         ORU Online   \n2312941                                     Data Structure   \n2312942                                        Devi Suktam   \n2312943                       Biliyor Musun - Sonsuz Yarış   \n\n                                       App Id       Category  Rating  \\\n0                         com.ishakwe.gakondo      Adventure     0.0   \n1                  com.webserveis.batteryinfo          Tools     4.4   \n2                        com.doantiepvien.crm   Productivity     0.0   \n3                     cst.stJoseph.ug17ucs548  Communication     5.0   \n4                        com.horodyski.grower          Tools     0.0   \n...                                       ...            ...     ...   \n2312939                         com.rxsj.ssjj   Role Playing     4.3   \n2312940              com.threedream.oruonline      Education     0.0   \n2312941  datastructure.appoworld.datastucture      Education     0.0   \n2312942                     ishan.devi.suktam  Music & Audio     3.5   \n2312943             com.yyazilim.biliyormusun         Trivia     5.0   \n\n         Rating Count  Installs  Minimum Installs  Maximum Installs  Free  \\\n0                 0.0       10+              10.0                15  True   \n1                64.0    5,000+            5000.0              7662  True   \n2                 0.0       50+              50.0                58  True   \n3                 5.0       10+              10.0                19  True   \n4                 0.0      100+             100.0               478  True   \n...               ...       ...               ...               ...   ...   \n2312939       16775.0  100,000+          100000.0            337109  True   \n2312940           0.0      100+             100.0               430  True   \n2312941           0.0      100+             100.0               202  True   \n2312942           8.0    1,000+            1000.0              2635  True   \n2312943          12.0      100+             100.0               354  True   \n\n         Price  ...                  Developer Website  \\\n0          0.0  ...        https://beniyizibyose.tk/#/   \n1          0.0  ...    https://webserveis.netlify.app/   \n2          0.0  ...                                NaN   \n3          0.0  ...   http://www.climatesmarttech.com/   \n4          0.0  ...        http://www.horodyski.com.pl   \n...        ...  ...                                ...   \n2312939    0.0  ...          http://www.4399sy.com.hk/   \n2312940    0.0  ...                http://www.oru.edu/   \n2312941    0.0  ...                                NaN   \n2312942    0.0  ...  https://a70f78905.app-ads-txt.com   \n2312943    0.0  ...                                NaN   \n\n                      Developer Email      Released  Last Updated  \\\n0              jean21101999@gmail.com  Feb 26, 2020  Feb 26, 2020   \n1                webserveis@gmail.com  May 21, 2020  May 06, 2021   \n2                 vnacrewit@gmail.com   Aug 9, 2019  Aug 19, 2019   \n3         climatesmarttech2@gmail.com  Sep 10, 2018  Oct 13, 2018   \n4           rmilekhorodyski@gmail.com  Feb 21, 2020  Nov 12, 2018   \n...                               ...           ...           ...   \n2312939           ssjjcomhk@gmail.com           NaN  Jun 01, 2021   \n2312940     3DreamDeveloper@gmail.com  Jan 17, 2018  Feb 02, 2018   \n2312941  appoworld.official@gmail.com  Aug 19, 2018  Aug 19, 2018   \n2312942           ruchisono@gmail.com   Aug 1, 2016  May 05, 2021   \n2312943     yyazilimdevelop@gmail.com   Aug 9, 2019  Aug 19, 2019   \n\n        Content Rating                                     Privacy Policy  \\\n0             Everyone                 https://beniyizibyose.tk/projects/   \n1             Everyone  https://dev4phones.wordpress.com/licencia-de-uso/   \n2             Everyone  https://www.vietnamairlines.com/vn/en/terms-an...   \n3             Everyone                                                NaN   \n4             Everyone                        http://www.horodyski.com.pl   \n...                ...                                                ...   \n2312939           Teen             http://a.4399sy.com.hk/user/aggreement   \n2312940       Everyone    http://www.oru.edu/about-oru/privacy-policy.php   \n2312941       Everyone  https://appoworld.000webhostapp.com/datastruct...   \n2312942       Everyone  https://docs.google.com/document/d/1x-9reZuLRX...   \n2312943       Everyone  https://biliyor-musun-sons.flycricket.io/priva...   \n\n        Ad Supported In App Purchases Editors Choice         Scraped Time  \n0              False            False          False  2021-06-15 20:19:35  \n1               True            False          False  2021-06-15 20:19:35  \n2              False            False          False  2021-06-15 20:19:35  \n3               True            False          False  2021-06-15 20:19:35  \n4              False            False          False  2021-06-15 20:19:35  \n...              ...              ...            ...                  ...  \n2312939        False            False          False  2021-06-16 12:59:18  \n2312940        False            False          False  2021-06-16 12:59:19  \n2312941        False            False          False  2021-06-16 12:59:19  \n2312942         True            False          False  2021-06-16 12:59:19  \n2312943         True            False          False  2021-06-16 12:59:19  \n\n[2312944 rows x 24 columns]>"
     },
     "execution_count": 2,
     "metadata": {},
     "output_type": "execute_result"
    }
   ],
   "source": [
    "df.info"
   ],
   "metadata": {
    "collapsed": false,
    "ExecuteTime": {
     "end_time": "2024-03-28T06:04:01.875978Z",
     "start_time": "2024-03-28T06:04:01.103717Z"
    }
   },
   "id": "ee4c4d407bf0d2af",
   "execution_count": 2
  },
  {
   "cell_type": "code",
   "outputs": [
    {
     "data": {
      "text/plain": "App Name              object\nApp Id                object\nCategory              object\nRating               float64\nRating Count         float64\nInstalls              object\nMinimum Installs     float64\nMaximum Installs       int64\nFree                    bool\nPrice                float64\nCurrency              object\nSize                  object\nMinimum Android       object\nDeveloper Id          object\nDeveloper Website     object\nDeveloper Email       object\nReleased              object\nLast Updated          object\nContent Rating        object\nPrivacy Policy        object\nAd Supported            bool\nIn App Purchases        bool\nEditors Choice          bool\nScraped Time          object\ndtype: object"
     },
     "execution_count": 3,
     "metadata": {},
     "output_type": "execute_result"
    }
   ],
   "source": [
    "df.dtypes"
   ],
   "metadata": {
    "collapsed": false,
    "ExecuteTime": {
     "end_time": "2024-03-28T06:04:01.883748Z",
     "start_time": "2024-03-28T06:04:01.877115Z"
    }
   },
   "id": "c9faca4dfe394744",
   "execution_count": 3
  },
  {
   "cell_type": "code",
   "outputs": [
    {
     "data": {
      "text/plain": "0          False\n1          False\n2          False\n3          False\n4          False\n           ...  \n2312939    False\n2312940    False\n2312941    False\n2312942    False\n2312943    False\nLength: 2312944, dtype: bool"
     },
     "execution_count": 4,
     "metadata": {},
     "output_type": "execute_result"
    }
   ],
   "source": [
    "df.duplicated()"
   ],
   "metadata": {
    "collapsed": false,
    "ExecuteTime": {
     "end_time": "2024-03-28T06:04:09.405573Z",
     "start_time": "2024-03-28T06:04:01.884810Z"
    }
   },
   "id": "bcfa50046e708854",
   "execution_count": 4
  },
  {
   "cell_type": "code",
   "outputs": [
    {
     "data": {
      "text/plain": "App Name              True\nApp Id               False\nCategory             False\nRating                True\nRating Count          True\nInstalls              True\nMinimum Installs      True\nMaximum Installs     False\nFree                 False\nPrice                False\nCurrency              True\nSize                  True\nMinimum Android       True\nDeveloper Id          True\nDeveloper Website     True\nDeveloper Email       True\nReleased              True\nLast Updated         False\nContent Rating       False\nPrivacy Policy        True\nAd Supported         False\nIn App Purchases     False\nEditors Choice       False\nScraped Time         False\ndtype: bool"
     },
     "execution_count": 5,
     "metadata": {},
     "output_type": "execute_result"
    }
   ],
   "source": [
    "df.isnull().any()"
   ],
   "metadata": {
    "collapsed": false,
    "ExecuteTime": {
     "end_time": "2024-03-28T06:04:10.569152Z",
     "start_time": "2024-03-28T06:04:09.407727Z"
    }
   },
   "id": "a0ee81aa7f681e96",
   "execution_count": 5
  },
  {
   "cell_type": "code",
   "outputs": [
    {
     "data": {
      "text/plain": "App Name                  5\nApp Id                    0\nCategory                  0\nRating                22883\nRating Count          22883\nInstalls                107\nMinimum Installs        107\nMaximum Installs          0\nFree                      0\nPrice                     0\nCurrency                135\nSize                    196\nMinimum Android        6530\nDeveloper Id             33\nDeveloper Website    760835\nDeveloper Email          31\nReleased              71053\nLast Updated              0\nContent Rating            0\nPrivacy Policy       420953\nAd Supported              0\nIn App Purchases          0\nEditors Choice            0\nScraped Time              0\ndtype: int64"
     },
     "execution_count": 6,
     "metadata": {},
     "output_type": "execute_result"
    }
   ],
   "source": [
    "df.isnull().sum()"
   ],
   "metadata": {
    "collapsed": false,
    "ExecuteTime": {
     "end_time": "2024-03-28T06:04:11.669037Z",
     "start_time": "2024-03-28T06:04:10.571387Z"
    }
   },
   "id": "3c9b66fc6fe92a5f",
   "execution_count": 6
  },
  {
   "cell_type": "code",
   "outputs": [
    {
     "data": {
      "text/plain": "                                                  App Name  \\\n0                                                  Gakondo   \n1                                      Ampere Battery Info   \n2                                                   Vibook   \n3        Smart City Trichy Public Service Vehicles 17UC...   \n4                                                  GROW.me   \n...                                                    ...   \n2312939                                           大俠客—熱血歸來   \n2312940                                         ORU Online   \n2312941                                     Data Structure   \n2312942                                        Devi Suktam   \n2312943                       Biliyor Musun - Sonsuz Yarış   \n\n                                       App Id       Category  Rating  \\\n0                         com.ishakwe.gakondo      Adventure     0.0   \n1                  com.webserveis.batteryinfo          Tools     4.4   \n2                        com.doantiepvien.crm   Productivity     0.0   \n3                     cst.stJoseph.ug17ucs548  Communication     5.0   \n4                        com.horodyski.grower          Tools     0.0   \n...                                       ...            ...     ...   \n2312939                         com.rxsj.ssjj   Role Playing     4.3   \n2312940              com.threedream.oruonline      Education     0.0   \n2312941  datastructure.appoworld.datastucture      Education     0.0   \n2312942                     ishan.devi.suktam  Music & Audio     3.5   \n2312943             com.yyazilim.biliyormusun         Trivia     5.0   \n\n         Rating Count  Installs  Minimum Installs  Maximum Installs  Free  \\\n0                 0.0       10+              10.0                15  True   \n1                64.0    5,000+            5000.0              7662  True   \n2                 0.0       50+              50.0                58  True   \n3                 5.0       10+              10.0                19  True   \n4                 0.0      100+             100.0               478  True   \n...               ...       ...               ...               ...   ...   \n2312939       16775.0  100,000+          100000.0            337109  True   \n2312940           0.0      100+             100.0               430  True   \n2312941           0.0      100+             100.0               202  True   \n2312942           8.0    1,000+            1000.0              2635  True   \n2312943          12.0      100+             100.0               354  True   \n\n         Price  ...                  Developer Website  \\\n0          0.0  ...        https://beniyizibyose.tk/#/   \n1          0.0  ...    https://webserveis.netlify.app/   \n2          0.0  ...                                 -1   \n3          0.0  ...   http://www.climatesmarttech.com/   \n4          0.0  ...        http://www.horodyski.com.pl   \n...        ...  ...                                ...   \n2312939    0.0  ...          http://www.4399sy.com.hk/   \n2312940    0.0  ...                http://www.oru.edu/   \n2312941    0.0  ...                                 -1   \n2312942    0.0  ...  https://a70f78905.app-ads-txt.com   \n2312943    0.0  ...                                 -1   \n\n                      Developer Email      Released  Last Updated  \\\n0              jean21101999@gmail.com  Feb 26, 2020  Feb 26, 2020   \n1                webserveis@gmail.com  May 21, 2020  May 06, 2021   \n2                 vnacrewit@gmail.com   Aug 9, 2019  Aug 19, 2019   \n3         climatesmarttech2@gmail.com  Sep 10, 2018  Oct 13, 2018   \n4           rmilekhorodyski@gmail.com  Feb 21, 2020  Nov 12, 2018   \n...                               ...           ...           ...   \n2312939           ssjjcomhk@gmail.com            -1  Jun 01, 2021   \n2312940     3DreamDeveloper@gmail.com  Jan 17, 2018  Feb 02, 2018   \n2312941  appoworld.official@gmail.com  Aug 19, 2018  Aug 19, 2018   \n2312942           ruchisono@gmail.com   Aug 1, 2016  May 05, 2021   \n2312943     yyazilimdevelop@gmail.com   Aug 9, 2019  Aug 19, 2019   \n\n        Content Rating                                     Privacy Policy  \\\n0             Everyone                 https://beniyizibyose.tk/projects/   \n1             Everyone  https://dev4phones.wordpress.com/licencia-de-uso/   \n2             Everyone  https://www.vietnamairlines.com/vn/en/terms-an...   \n3             Everyone                                                 -1   \n4             Everyone                        http://www.horodyski.com.pl   \n...                ...                                                ...   \n2312939           Teen             http://a.4399sy.com.hk/user/aggreement   \n2312940       Everyone    http://www.oru.edu/about-oru/privacy-policy.php   \n2312941       Everyone  https://appoworld.000webhostapp.com/datastruct...   \n2312942       Everyone  https://docs.google.com/document/d/1x-9reZuLRX...   \n2312943       Everyone  https://biliyor-musun-sons.flycricket.io/priva...   \n\n        Ad Supported In App Purchases Editors Choice         Scraped Time  \n0              False            False          False  2021-06-15 20:19:35  \n1               True            False          False  2021-06-15 20:19:35  \n2              False            False          False  2021-06-15 20:19:35  \n3               True            False          False  2021-06-15 20:19:35  \n4              False            False          False  2021-06-15 20:19:35  \n...              ...              ...            ...                  ...  \n2312939        False            False          False  2021-06-16 12:59:18  \n2312940        False            False          False  2021-06-16 12:59:19  \n2312941        False            False          False  2021-06-16 12:59:19  \n2312942         True            False          False  2021-06-16 12:59:19  \n2312943         True            False          False  2021-06-16 12:59:19  \n\n[2312944 rows x 24 columns]",
      "text/html": "<div>\n<style scoped>\n    .dataframe tbody tr th:only-of-type {\n        vertical-align: middle;\n    }\n\n    .dataframe tbody tr th {\n        vertical-align: top;\n    }\n\n    .dataframe thead th {\n        text-align: right;\n    }\n</style>\n<table border=\"1\" class=\"dataframe\">\n  <thead>\n    <tr style=\"text-align: right;\">\n      <th></th>\n      <th>App Name</th>\n      <th>App Id</th>\n      <th>Category</th>\n      <th>Rating</th>\n      <th>Rating Count</th>\n      <th>Installs</th>\n      <th>Minimum Installs</th>\n      <th>Maximum Installs</th>\n      <th>Free</th>\n      <th>Price</th>\n      <th>...</th>\n      <th>Developer Website</th>\n      <th>Developer Email</th>\n      <th>Released</th>\n      <th>Last Updated</th>\n      <th>Content Rating</th>\n      <th>Privacy Policy</th>\n      <th>Ad Supported</th>\n      <th>In App Purchases</th>\n      <th>Editors Choice</th>\n      <th>Scraped Time</th>\n    </tr>\n  </thead>\n  <tbody>\n    <tr>\n      <th>0</th>\n      <td>Gakondo</td>\n      <td>com.ishakwe.gakondo</td>\n      <td>Adventure</td>\n      <td>0.0</td>\n      <td>0.0</td>\n      <td>10+</td>\n      <td>10.0</td>\n      <td>15</td>\n      <td>True</td>\n      <td>0.0</td>\n      <td>...</td>\n      <td>https://beniyizibyose.tk/#/</td>\n      <td>jean21101999@gmail.com</td>\n      <td>Feb 26, 2020</td>\n      <td>Feb 26, 2020</td>\n      <td>Everyone</td>\n      <td>https://beniyizibyose.tk/projects/</td>\n      <td>False</td>\n      <td>False</td>\n      <td>False</td>\n      <td>2021-06-15 20:19:35</td>\n    </tr>\n    <tr>\n      <th>1</th>\n      <td>Ampere Battery Info</td>\n      <td>com.webserveis.batteryinfo</td>\n      <td>Tools</td>\n      <td>4.4</td>\n      <td>64.0</td>\n      <td>5,000+</td>\n      <td>5000.0</td>\n      <td>7662</td>\n      <td>True</td>\n      <td>0.0</td>\n      <td>...</td>\n      <td>https://webserveis.netlify.app/</td>\n      <td>webserveis@gmail.com</td>\n      <td>May 21, 2020</td>\n      <td>May 06, 2021</td>\n      <td>Everyone</td>\n      <td>https://dev4phones.wordpress.com/licencia-de-uso/</td>\n      <td>True</td>\n      <td>False</td>\n      <td>False</td>\n      <td>2021-06-15 20:19:35</td>\n    </tr>\n    <tr>\n      <th>2</th>\n      <td>Vibook</td>\n      <td>com.doantiepvien.crm</td>\n      <td>Productivity</td>\n      <td>0.0</td>\n      <td>0.0</td>\n      <td>50+</td>\n      <td>50.0</td>\n      <td>58</td>\n      <td>True</td>\n      <td>0.0</td>\n      <td>...</td>\n      <td>-1</td>\n      <td>vnacrewit@gmail.com</td>\n      <td>Aug 9, 2019</td>\n      <td>Aug 19, 2019</td>\n      <td>Everyone</td>\n      <td>https://www.vietnamairlines.com/vn/en/terms-an...</td>\n      <td>False</td>\n      <td>False</td>\n      <td>False</td>\n      <td>2021-06-15 20:19:35</td>\n    </tr>\n    <tr>\n      <th>3</th>\n      <td>Smart City Trichy Public Service Vehicles 17UC...</td>\n      <td>cst.stJoseph.ug17ucs548</td>\n      <td>Communication</td>\n      <td>5.0</td>\n      <td>5.0</td>\n      <td>10+</td>\n      <td>10.0</td>\n      <td>19</td>\n      <td>True</td>\n      <td>0.0</td>\n      <td>...</td>\n      <td>http://www.climatesmarttech.com/</td>\n      <td>climatesmarttech2@gmail.com</td>\n      <td>Sep 10, 2018</td>\n      <td>Oct 13, 2018</td>\n      <td>Everyone</td>\n      <td>-1</td>\n      <td>True</td>\n      <td>False</td>\n      <td>False</td>\n      <td>2021-06-15 20:19:35</td>\n    </tr>\n    <tr>\n      <th>4</th>\n      <td>GROW.me</td>\n      <td>com.horodyski.grower</td>\n      <td>Tools</td>\n      <td>0.0</td>\n      <td>0.0</td>\n      <td>100+</td>\n      <td>100.0</td>\n      <td>478</td>\n      <td>True</td>\n      <td>0.0</td>\n      <td>...</td>\n      <td>http://www.horodyski.com.pl</td>\n      <td>rmilekhorodyski@gmail.com</td>\n      <td>Feb 21, 2020</td>\n      <td>Nov 12, 2018</td>\n      <td>Everyone</td>\n      <td>http://www.horodyski.com.pl</td>\n      <td>False</td>\n      <td>False</td>\n      <td>False</td>\n      <td>2021-06-15 20:19:35</td>\n    </tr>\n    <tr>\n      <th>...</th>\n      <td>...</td>\n      <td>...</td>\n      <td>...</td>\n      <td>...</td>\n      <td>...</td>\n      <td>...</td>\n      <td>...</td>\n      <td>...</td>\n      <td>...</td>\n      <td>...</td>\n      <td>...</td>\n      <td>...</td>\n      <td>...</td>\n      <td>...</td>\n      <td>...</td>\n      <td>...</td>\n      <td>...</td>\n      <td>...</td>\n      <td>...</td>\n      <td>...</td>\n      <td>...</td>\n    </tr>\n    <tr>\n      <th>2312939</th>\n      <td>大俠客—熱血歸來</td>\n      <td>com.rxsj.ssjj</td>\n      <td>Role Playing</td>\n      <td>4.3</td>\n      <td>16775.0</td>\n      <td>100,000+</td>\n      <td>100000.0</td>\n      <td>337109</td>\n      <td>True</td>\n      <td>0.0</td>\n      <td>...</td>\n      <td>http://www.4399sy.com.hk/</td>\n      <td>ssjjcomhk@gmail.com</td>\n      <td>-1</td>\n      <td>Jun 01, 2021</td>\n      <td>Teen</td>\n      <td>http://a.4399sy.com.hk/user/aggreement</td>\n      <td>False</td>\n      <td>False</td>\n      <td>False</td>\n      <td>2021-06-16 12:59:18</td>\n    </tr>\n    <tr>\n      <th>2312940</th>\n      <td>ORU Online</td>\n      <td>com.threedream.oruonline</td>\n      <td>Education</td>\n      <td>0.0</td>\n      <td>0.0</td>\n      <td>100+</td>\n      <td>100.0</td>\n      <td>430</td>\n      <td>True</td>\n      <td>0.0</td>\n      <td>...</td>\n      <td>http://www.oru.edu/</td>\n      <td>3DreamDeveloper@gmail.com</td>\n      <td>Jan 17, 2018</td>\n      <td>Feb 02, 2018</td>\n      <td>Everyone</td>\n      <td>http://www.oru.edu/about-oru/privacy-policy.php</td>\n      <td>False</td>\n      <td>False</td>\n      <td>False</td>\n      <td>2021-06-16 12:59:19</td>\n    </tr>\n    <tr>\n      <th>2312941</th>\n      <td>Data Structure</td>\n      <td>datastructure.appoworld.datastucture</td>\n      <td>Education</td>\n      <td>0.0</td>\n      <td>0.0</td>\n      <td>100+</td>\n      <td>100.0</td>\n      <td>202</td>\n      <td>True</td>\n      <td>0.0</td>\n      <td>...</td>\n      <td>-1</td>\n      <td>appoworld.official@gmail.com</td>\n      <td>Aug 19, 2018</td>\n      <td>Aug 19, 2018</td>\n      <td>Everyone</td>\n      <td>https://appoworld.000webhostapp.com/datastruct...</td>\n      <td>False</td>\n      <td>False</td>\n      <td>False</td>\n      <td>2021-06-16 12:59:19</td>\n    </tr>\n    <tr>\n      <th>2312942</th>\n      <td>Devi Suktam</td>\n      <td>ishan.devi.suktam</td>\n      <td>Music &amp; Audio</td>\n      <td>3.5</td>\n      <td>8.0</td>\n      <td>1,000+</td>\n      <td>1000.0</td>\n      <td>2635</td>\n      <td>True</td>\n      <td>0.0</td>\n      <td>...</td>\n      <td>https://a70f78905.app-ads-txt.com</td>\n      <td>ruchisono@gmail.com</td>\n      <td>Aug 1, 2016</td>\n      <td>May 05, 2021</td>\n      <td>Everyone</td>\n      <td>https://docs.google.com/document/d/1x-9reZuLRX...</td>\n      <td>True</td>\n      <td>False</td>\n      <td>False</td>\n      <td>2021-06-16 12:59:19</td>\n    </tr>\n    <tr>\n      <th>2312943</th>\n      <td>Biliyor Musun - Sonsuz Yarış</td>\n      <td>com.yyazilim.biliyormusun</td>\n      <td>Trivia</td>\n      <td>5.0</td>\n      <td>12.0</td>\n      <td>100+</td>\n      <td>100.0</td>\n      <td>354</td>\n      <td>True</td>\n      <td>0.0</td>\n      <td>...</td>\n      <td>-1</td>\n      <td>yyazilimdevelop@gmail.com</td>\n      <td>Aug 9, 2019</td>\n      <td>Aug 19, 2019</td>\n      <td>Everyone</td>\n      <td>https://biliyor-musun-sons.flycricket.io/priva...</td>\n      <td>True</td>\n      <td>False</td>\n      <td>False</td>\n      <td>2021-06-16 12:59:19</td>\n    </tr>\n  </tbody>\n</table>\n<p>2312944 rows × 24 columns</p>\n</div>"
     },
     "execution_count": 7,
     "metadata": {},
     "output_type": "execute_result"
    }
   ],
   "source": [
    "df.fillna(value=-1)"
   ],
   "metadata": {
    "collapsed": false,
    "ExecuteTime": {
     "end_time": "2024-03-28T06:04:15.653154Z",
     "start_time": "2024-03-28T06:04:11.670170Z"
    }
   },
   "id": "75b63311263e066f",
   "execution_count": 7
  },
  {
   "cell_type": "code",
   "outputs": [
    {
     "data": {
      "text/plain": "array([0.0000e+00, 6.4000e+01, 5.0000e+00, ..., 8.7553e+04, 7.5960e+04,\n       7.8351e+04])"
     },
     "execution_count": 8,
     "metadata": {},
     "output_type": "execute_result"
    }
   ],
   "source": [
    "df['Rating Count'].unique()"
   ],
   "metadata": {
    "collapsed": false,
    "ExecuteTime": {
     "end_time": "2024-03-28T06:04:15.699620Z",
     "start_time": "2024-03-28T06:04:15.654175Z"
    }
   },
   "id": "d0ddcf62f34592f0",
   "execution_count": 8
  },
  {
   "cell_type": "code",
   "outputs": [
    {
     "data": {
      "text/plain": "array([1.e+01, 5.e+03, 5.e+01, 1.e+02, 1.e+03, 5.e+02, 5.e+04, 1.e+04,\n       1.e+00, 5.e+05, 1.e+05, 5.e+00, 1.e+07, 1.e+06, 5.e+06, 0.e+00,\n       1.e+08,    nan, 5.e+07, 1.e+09, 5.e+08, 5.e+09, 1.e+10])"
     },
     "execution_count": 9,
     "metadata": {},
     "output_type": "execute_result"
    }
   ],
   "source": [
    "df['Minimum Installs'].unique()"
   ],
   "metadata": {
    "collapsed": false,
    "ExecuteTime": {
     "end_time": "2024-03-28T06:04:15.725513Z",
     "start_time": "2024-03-28T06:04:15.700691Z"
    }
   },
   "id": "6e8c676e7a05b3ad",
   "execution_count": 9
  },
  {
   "cell_type": "code",
   "outputs": [],
   "source": [
    "df = df.astype({\n",
    "    'App Name': 'string',\n",
    "    'App Id': 'string',\n",
    "    'Category': 'category',\n",
    "    'Rating': 'float64',\n",
    "    'Rating Count': 'float64',\n",
    "    'Minimum Installs': 'float64',\n",
    "    'Maximum Installs': 'float64',\n",
    "    'Free': 'bool',\n",
    "    'Price': 'float64',\n",
    "    'Currency': 'category',\n",
    "    'Size': 'string',\n",
    "    'Minimum Android': 'category',\n",
    "    'Developer Id': 'string',\n",
    "    'Developer Website': 'string',\n",
    "    'Developer Email': 'string',\n",
    "    'Released': 'datetime64[ns]',\n",
    "    'Last Updated': 'datetime64[ns]',\n",
    "    'Content Rating': 'string',\n",
    "    'Privacy Policy': 'string',\n",
    "    'Ad Supported': 'bool',\n",
    "    'In App Purchases': 'bool',\n",
    "    'Editors Choice': 'bool',\n",
    "    'Scraped Time': 'datetime64[ns]'\n",
    "})\n",
    "df['Installs'] = df['Installs'].str.replace(',', '').str.replace('+', '').astype('float64')"
   ],
   "metadata": {
    "collapsed": false,
    "ExecuteTime": {
     "end_time": "2024-03-28T06:08:41.878574Z",
     "start_time": "2024-03-28T06:04:15.726709Z"
    }
   },
   "id": "7ea714d058d4a79",
   "execution_count": 10
  },
  {
   "cell_type": "code",
   "outputs": [
    {
     "data": {
      "text/plain": "                    Rating  Rating Count  Installs  Minimum Installs  \\\nRating            1.000000      0.013038  0.011214          0.011214   \nRating Count      0.013038      1.000000  0.545281          0.545281   \nInstalls          0.011214      0.545281  1.000000          1.000000   \nMinimum Installs  0.011214      0.545281  1.000000          1.000000   \nMaximum Installs  0.012615      0.547571  0.954037          0.954037   \nPrice            -0.003674     -0.000411 -0.000461         -0.000461   \n\n                  Maximum Installs     Price  \nRating                    0.012615 -0.003674  \nRating Count              0.547571 -0.000411  \nInstalls                  0.954037 -0.000461  \nMinimum Installs          0.954037 -0.000461  \nMaximum Installs          1.000000 -0.000515  \nPrice                    -0.000515  1.000000  ",
      "text/html": "<div>\n<style scoped>\n    .dataframe tbody tr th:only-of-type {\n        vertical-align: middle;\n    }\n\n    .dataframe tbody tr th {\n        vertical-align: top;\n    }\n\n    .dataframe thead th {\n        text-align: right;\n    }\n</style>\n<table border=\"1\" class=\"dataframe\">\n  <thead>\n    <tr style=\"text-align: right;\">\n      <th></th>\n      <th>Rating</th>\n      <th>Rating Count</th>\n      <th>Installs</th>\n      <th>Minimum Installs</th>\n      <th>Maximum Installs</th>\n      <th>Price</th>\n    </tr>\n  </thead>\n  <tbody>\n    <tr>\n      <th>Rating</th>\n      <td>1.000000</td>\n      <td>0.013038</td>\n      <td>0.011214</td>\n      <td>0.011214</td>\n      <td>0.012615</td>\n      <td>-0.003674</td>\n    </tr>\n    <tr>\n      <th>Rating Count</th>\n      <td>0.013038</td>\n      <td>1.000000</td>\n      <td>0.545281</td>\n      <td>0.545281</td>\n      <td>0.547571</td>\n      <td>-0.000411</td>\n    </tr>\n    <tr>\n      <th>Installs</th>\n      <td>0.011214</td>\n      <td>0.545281</td>\n      <td>1.000000</td>\n      <td>1.000000</td>\n      <td>0.954037</td>\n      <td>-0.000461</td>\n    </tr>\n    <tr>\n      <th>Minimum Installs</th>\n      <td>0.011214</td>\n      <td>0.545281</td>\n      <td>1.000000</td>\n      <td>1.000000</td>\n      <td>0.954037</td>\n      <td>-0.000461</td>\n    </tr>\n    <tr>\n      <th>Maximum Installs</th>\n      <td>0.012615</td>\n      <td>0.547571</td>\n      <td>0.954037</td>\n      <td>0.954037</td>\n      <td>1.000000</td>\n      <td>-0.000515</td>\n    </tr>\n    <tr>\n      <th>Price</th>\n      <td>-0.003674</td>\n      <td>-0.000411</td>\n      <td>-0.000461</td>\n      <td>-0.000461</td>\n      <td>-0.000515</td>\n      <td>1.000000</td>\n    </tr>\n  </tbody>\n</table>\n</div>"
     },
     "execution_count": 11,
     "metadata": {},
     "output_type": "execute_result"
    }
   ],
   "source": [
    "numeric_df = df.select_dtypes(include=['float64', 'int64'])\n",
    "numeric_df.corr()"
   ],
   "metadata": {
    "collapsed": false,
    "ExecuteTime": {
     "end_time": "2024-03-28T06:08:42.109837Z",
     "start_time": "2024-03-28T06:08:41.879593Z"
    }
   },
   "id": "6728a303ed7c8019",
   "execution_count": 11
  },
  {
   "cell_type": "code",
   "outputs": [],
   "source": [
    "df.to_pickle(\"googleDb.pkl\")"
   ],
   "metadata": {
    "collapsed": false,
    "ExecuteTime": {
     "end_time": "2024-03-28T06:11:40.622438Z",
     "start_time": "2024-03-28T06:11:35.473908Z"
    }
   },
   "id": "eb8a3874005d804a",
   "execution_count": 13
  },
  {
   "cell_type": "code",
   "outputs": [],
   "source": [
    "df = pd.read_pickle(\"googleDb.pkl\")"
   ],
   "metadata": {
    "collapsed": false,
    "ExecuteTime": {
     "end_time": "2024-03-28T06:11:57.051577Z",
     "start_time": "2024-03-28T06:11:54.776824Z"
    }
   },
   "id": "9184462569a1a93a",
   "execution_count": 14
  }
 ],
 "metadata": {
  "kernelspec": {
   "display_name": "Python 3",
   "language": "python",
   "name": "python3"
  },
  "language_info": {
   "codemirror_mode": {
    "name": "ipython",
    "version": 2
   },
   "file_extension": ".py",
   "mimetype": "text/x-python",
   "name": "python",
   "nbconvert_exporter": "python",
   "pygments_lexer": "ipython2",
   "version": "2.7.6"
  }
 },
 "nbformat": 4,
 "nbformat_minor": 5
}
